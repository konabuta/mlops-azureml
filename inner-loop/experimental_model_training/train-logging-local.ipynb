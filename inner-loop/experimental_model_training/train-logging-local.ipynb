{
 "cells": [
  {
   "cell_type": "code",
   "execution_count": null,
   "metadata": {},
   "outputs": [],
   "source": [
    "# imports\n",
    "import time\n",
    "\n",
    "import pandas as pd\n",
    "import lightgbm as lgb\n",
    "import matplotlib.pyplot as plt\n",
    "\n",
    "from sklearn.metrics import log_loss, accuracy_score\n",
    "from sklearn.preprocessing import LabelEncoder\n",
    "from sklearn.model_selection import train_test_split"
   ]
  },
  {
   "cell_type": "code",
   "execution_count": null,
   "metadata": {},
   "outputs": [],
   "source": [
    "import mlflow\n",
    "mlflow.set_tracking_uri(\"./mlflowwork\")\n",
    "mlflow.set_experiment(experiment_name = \"mymodel2\")\n",
    "experiment = mlflow.get_experiment_by_name(\"mymodel2\")"
   ]
  },
  {
   "cell_type": "code",
   "execution_count": null,
   "metadata": {},
   "outputs": [],
   "source": [
    "# Data Preprocessing\n",
    "def preprocess_data(df, categorical_cols, float_cols):\n",
    "\n",
    "    df[categorical_cols] = df[categorical_cols].astype('category')\n",
    "    df[float_cols] = df[float_cols].astype('float')\n",
    "\n",
    "    X = df.drop([\"Survived\", \"PassengerId\"], axis=1)\n",
    "    y = df[\"Survived\"]\n",
    "\n",
    "    enc = LabelEncoder()\n",
    "    y = enc.fit_transform(y)\n",
    "\n",
    "    X_train, X_test, y_train, y_test = train_test_split(\n",
    "        X, y, test_size=0.2, random_state=42\n",
    "    )\n",
    "\n",
    "    return X_train, X_test, y_train, y_test, enc, categorical_cols\n",
    "\n",
    "\n",
    "# Model Training\n",
    "def train_model(params, num_boost_round, X_train, X_test, y_train, y_test, categorical_cols):\n",
    "    t1 = time.time()\n",
    "    train_data = lgb.Dataset(X_train, label=y_train, categorical_feature=categorical_cols)\n",
    "    test_data = lgb.Dataset(X_test, label=y_test, categorical_feature=categorical_cols)\n",
    "    model = lgb.train(\n",
    "        params,\n",
    "        train_data,\n",
    "        num_boost_round=num_boost_round,\n",
    "        valid_sets=[test_data],\n",
    "        valid_names=[\"test\"],\n",
    "        categorical_feature=categorical_cols\n",
    "    )\n",
    "    t2 = time.time()\n",
    "\n",
    "    return model, t2 - t1\n",
    "\n",
    "\n",
    "# Model Evaluation\n",
    "def evaluate_model(model, X_test, y_test):\n",
    "    y_proba = model.predict(X_test)\n",
    "    y_pred = y_proba.argmax(axis=1)\n",
    "    loss = log_loss(y_test, y_proba)\n",
    "    acc = accuracy_score(y_test, y_pred)\n",
    "\n",
    "    return loss, acc"
   ]
  },
  {
   "cell_type": "code",
   "execution_count": null,
   "metadata": {},
   "outputs": [],
   "source": [
    "with mlflow.start_run(experiment_id=experiment.experiment_id):\n",
    "    # MLflow Automatic Logging for LightGBM\n",
    "    mlflow.lightgbm.autolog()\n",
    "    \n",
    "    # LightGBM HyperParameters\n",
    "    num_boost_round = 10\n",
    "\n",
    "    params = {\n",
    "        \"objective\": \"multiclass\",\n",
    "        \"num_class\": 2,\n",
    "        \"boosting\": \"gbdt\",\n",
    "        \"num_iterations\": 16,\n",
    "        \"num_leaves\": 31,\n",
    "        \"num_threads\": 0,\n",
    "        \"learning_rate\": 0.1,\n",
    "        \"metric\": \"multi_logloss\",\n",
    "        \"seed\": 1234,\n",
    "        \"verbose\": 0,\n",
    "    }\n",
    "\n",
    "    # Read csv file\n",
    "    df = pd.read_csv(\"../artifacts/sample-data/Titanic.csv\")\n",
    "\n",
    "    # Data Preprocessing\n",
    "    categorical_cols = ['Name', 'Sex', 'Ticket', 'Cabin', 'Embarked']\n",
    "    float_cols = ['Pclass', 'Age', 'SibSp', 'Parch', 'Fare']\n",
    "    X_train, X_test, y_train, y_test, enc, categorical_cols = preprocess_data(df, categorical_cols, float_cols)\n",
    "\n",
    "    # Model Training\n",
    "    model, train_time = train_model(\n",
    "        params, num_boost_round, X_train, X_test, y_train, y_test, categorical_cols\n",
    "    )\n",
    "\n",
    "    # Model Evaluation\n",
    "    loss, acc = evaluate_model(model, X_test, y_test)\n",
    "    print(loss, acc)"
   ]
  },
  {
   "cell_type": "code",
   "execution_count": null,
   "metadata": {},
   "outputs": [],
   "source": [
    "#!mlflow ui  --backend-store-uri ./mlflowwork # Start MLflow UI on local"
   ]
  }
 ],
 "metadata": {
  "interpreter": {
   "hash": "6d65a8c07f5b6469e0fc613f182488c0dccce05038bbda39e5ac9075c0454d11"
  },
  "kernelspec": {
   "display_name": "Python 3.8.5 ('azureml_py38')",
   "language": "python",
   "name": "python3"
  },
  "language_info": {
   "codemirror_mode": {
    "name": "ipython",
    "version": 3
   },
   "file_extension": ".py",
   "mimetype": "text/x-python",
   "name": "python",
   "nbconvert_exporter": "python",
   "pygments_lexer": "ipython3",
   "version": "3.8.5"
  },
  "orig_nbformat": 4
 },
 "nbformat": 4,
 "nbformat_minor": 2
}
