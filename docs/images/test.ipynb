{
 "cells": [
  {
   "cell_type": "code",
   "execution_count": 23,
   "metadata": {},
   "outputs": [],
   "source": [
    "from azureml.core import Workspace, Experiment, Run"
   ]
  },
  {
   "cell_type": "code",
   "execution_count": 17,
   "metadata": {},
   "outputs": [
    {
     "name": "stdout",
     "output_type": "stream",
     "text": [
      "Workspace.create(name='azureml-mlopshack', subscription_id='9c0f91b8-eb2f-484c-979c-15848c098a6b', resource_group='azureml-mlopshack')\n"
     ]
    }
   ],
   "source": [
    "workspace = Workspace.from_config()\n",
    "print(workspace)"
   ]
  },
  {
   "cell_type": "code",
   "execution_count": 18,
   "metadata": {},
   "outputs": [],
   "source": [
    "exp = Experiment(workspace, \"runtest\")\n",
    "run = exp.start_logging()"
   ]
  },
  {
   "cell_type": "code",
   "execution_count": 19,
   "metadata": {},
   "outputs": [
    {
     "data": {
      "text/plain": [
       "{'status': 'Running', 'details': None}"
      ]
     },
     "execution_count": 19,
     "metadata": {},
     "output_type": "execute_result"
    }
   ],
   "source": [
    "run.get_detailed_status()"
   ]
  },
  {
   "cell_type": "code",
   "execution_count": 20,
   "metadata": {},
   "outputs": [],
   "source": [
    "run.tag(\"test1\")"
   ]
  },
  {
   "cell_type": "code",
   "execution_count": 21,
   "metadata": {},
   "outputs": [],
   "source": [
    "run.cancel()"
   ]
  },
  {
   "cell_type": "code",
   "execution_count": 22,
   "metadata": {},
   "outputs": [],
   "source": [
    "run.tag(\"test2\")"
   ]
  },
  {
   "cell_type": "code",
   "execution_count": 24,
   "metadata": {},
   "outputs": [
    {
     "data": {
      "text/plain": [
       "'8e8c59a5-8380-45f7-9800-e831109fa179'"
      ]
     },
     "execution_count": 24,
     "metadata": {},
     "output_type": "execute_result"
    }
   ],
   "source": [
    "run.id"
   ]
  },
  {
   "cell_type": "code",
   "execution_count": 28,
   "metadata": {},
   "outputs": [],
   "source": [
    "reexp = Experiment(workspace=workspace, name=\"runtest\")\n",
    "rerun = Run(reexp, \"8e8c59a5-8380-45f7-9800-e831109fa179\")"
   ]
  },
  {
   "cell_type": "code",
   "execution_count": 32,
   "metadata": {},
   "outputs": [],
   "source": [
    "run.tag(\"test3\")"
   ]
  },
  {
   "cell_type": "code",
   "execution_count": 33,
   "metadata": {},
   "outputs": [],
   "source": [
    "run.log(\"a\", 1)"
   ]
  },
  {
   "cell_type": "code",
   "execution_count": 29,
   "metadata": {},
   "outputs": [
    {
     "ename": "ServiceException",
     "evalue": "ServiceException:\n\tCode: 400\n\tMessage: (UserError) Run with id 8e8c59a5-8380-45f7-9800-e831109fa179 is in a terminal state and cannot be updated.\n\tDetails:\n\n\tHeaders: {\n\t    \"Date\": \"Wed, 25 May 2022 07:47:24 GMT\",\n\t    \"Content-Type\": \"application/json; charset=utf-8\",\n\t    \"Content-Length\": \"896\",\n\t    \"Connection\": \"keep-alive\",\n\t    \"Request-Context\": \"appId=cid-v1:925df543-2be9-4f25-a70e-6fb1193b7042\",\n\t    \"x-ms-response-type\": \"error\",\n\t    \"Strict-Transport-Security\": \"max-age=15724800; includeSubDomains; preload\",\n\t    \"X-Content-Type-Options\": \"nosniff\",\n\t    \"x-aml-cluster\": \"vienna-japaneast-01\",\n\t    \"x-request-time\": \"0.055\"\n\t}\n\tInnerException: {\n    \"additional_properties\": {},\n    \"error\": {\n        \"additional_properties\": {\n            \"debugInfo\": null\n        },\n        \"code\": \"UserError\",\n        \"severity\": null,\n        \"message\": \"Run with id 8e8c59a5-8380-45f7-9800-e831109fa179 is in a terminal state and cannot be updated.\",\n        \"message_format\": \"Run with id {runId} is in a terminal state and cannot be updated.\",\n        \"message_parameters\": {\n            \"runId\": \"8e8c59a5-8380-45f7-9800-e831109fa179\"\n        },\n        \"reference_code\": null,\n        \"details_uri\": null,\n        \"target\": null,\n        \"details\": [],\n        \"inner_error\": {\n            \"additional_properties\": {},\n            \"code\": \"BadArgument\",\n            \"inner_error\": {\n                \"additional_properties\": {},\n                \"code\": \"TerminalRunState\",\n                \"inner_error\": null\n            }\n        },\n        \"additional_info\": null\n    },\n    \"correlation\": {\n        \"operation\": \"de56cb3e44e31f3dacbf44201b8c6e6d\",\n        \"request\": \"be629ea9e45eafee\"\n    },\n    \"environment\": \"japaneast\",\n    \"location\": \"japaneast\",\n    \"time\": {},\n    \"component_name\": \"run-history\"\n}",
     "output_type": "error",
     "traceback": [
      "\u001b[0;31m---------------------------------------------------------------------------\u001b[0m",
      "\u001b[0;31mErrorResponseException\u001b[0m                    Traceback (most recent call last)",
      "File \u001b[0;32m/anaconda/envs/azureml_py38/lib/python3.8/site-packages/azureml/_restclient/clientbase.py:589\u001b[0m, in \u001b[0;36mClientBase._execute_with_arguments\u001b[0;34m(self, func, args_list, *args, **kwargs)\u001b[0m\n\u001b[1;32m    <a href='file:///anaconda/envs/azureml_py38/lib/python3.8/site-packages/azureml/_restclient/clientbase.py?line=587'>588</a>\u001b[0m     \u001b[39melse\u001b[39;00m:\n\u001b[0;32m--> <a href='file:///anaconda/envs/azureml_py38/lib/python3.8/site-packages/azureml/_restclient/clientbase.py?line=588'>589</a>\u001b[0m         \u001b[39mreturn\u001b[39;00m \u001b[39mself\u001b[39;49m\u001b[39m.\u001b[39;49m_call_api(func, \u001b[39m*\u001b[39;49margs_list, \u001b[39m*\u001b[39;49m\u001b[39m*\u001b[39;49mkwargs)\n\u001b[1;32m    <a href='file:///anaconda/envs/azureml_py38/lib/python3.8/site-packages/azureml/_restclient/clientbase.py?line=589'>590</a>\u001b[0m \u001b[39mexcept\u001b[39;00m ErrorResponseException \u001b[39mas\u001b[39;00m e:\n",
      "File \u001b[0;32m/anaconda/envs/azureml_py38/lib/python3.8/site-packages/azureml/_restclient/clientbase.py:245\u001b[0m, in \u001b[0;36mClientBase._call_api\u001b[0;34m(self, func, *args, **kwargs)\u001b[0m\n\u001b[1;32m    <a href='file:///anaconda/envs/azureml_py38/lib/python3.8/site-packages/azureml/_restclient/clientbase.py?line=243'>244</a>\u001b[0m \u001b[39melse\u001b[39;00m:\n\u001b[0;32m--> <a href='file:///anaconda/envs/azureml_py38/lib/python3.8/site-packages/azureml/_restclient/clientbase.py?line=244'>245</a>\u001b[0m     \u001b[39mreturn\u001b[39;00m \u001b[39mself\u001b[39;49m\u001b[39m.\u001b[39;49m_execute_with_base_arguments(func, \u001b[39m*\u001b[39;49margs, \u001b[39m*\u001b[39;49m\u001b[39m*\u001b[39;49mkwargs)\n",
      "File \u001b[0;32m/anaconda/envs/azureml_py38/lib/python3.8/site-packages/azureml/_restclient/clientbase.py:333\u001b[0m, in \u001b[0;36mClientBase._execute_with_base_arguments\u001b[0;34m(self, func, *args, **kwargs)\u001b[0m\n\u001b[1;32m    <a href='file:///anaconda/envs/azureml_py38/lib/python3.8/site-packages/azureml/_restclient/clientbase.py?line=331'>332</a>\u001b[0m total_retry \u001b[39m=\u001b[39m \u001b[39m0\u001b[39m \u001b[39mif\u001b[39;00m \u001b[39mself\u001b[39m\u001b[39m.\u001b[39mretries \u001b[39m<\u001b[39m \u001b[39m0\u001b[39m \u001b[39melse\u001b[39;00m \u001b[39mself\u001b[39m\u001b[39m.\u001b[39mretries\n\u001b[0;32m--> <a href='file:///anaconda/envs/azureml_py38/lib/python3.8/site-packages/azureml/_restclient/clientbase.py?line=332'>333</a>\u001b[0m \u001b[39mreturn\u001b[39;00m ClientBase\u001b[39m.\u001b[39;49m_execute_func_internal(\n\u001b[1;32m    <a href='file:///anaconda/envs/azureml_py38/lib/python3.8/site-packages/azureml/_restclient/clientbase.py?line=333'>334</a>\u001b[0m     back_off, total_retry, \u001b[39mself\u001b[39;49m\u001b[39m.\u001b[39;49m_logger, func, _noop_reset, \u001b[39m*\u001b[39;49margs, \u001b[39m*\u001b[39;49m\u001b[39m*\u001b[39;49mkwargs)\n",
      "File \u001b[0;32m/anaconda/envs/azureml_py38/lib/python3.8/site-packages/azureml/_restclient/clientbase.py:367\u001b[0m, in \u001b[0;36mClientBase._execute_func_internal\u001b[0;34m(cls, back_off, total_retry, logger, func, reset_func, *args, **kwargs)\u001b[0m\n\u001b[1;32m    <a href='file:///anaconda/envs/azureml_py38/lib/python3.8/site-packages/azureml/_restclient/clientbase.py?line=365'>366</a>\u001b[0m \u001b[39mexcept\u001b[39;00m \u001b[39mException\u001b[39;00m \u001b[39mas\u001b[39;00m error:\n\u001b[0;32m--> <a href='file:///anaconda/envs/azureml_py38/lib/python3.8/site-packages/azureml/_restclient/clientbase.py?line=366'>367</a>\u001b[0m     left_retry \u001b[39m=\u001b[39m \u001b[39mcls\u001b[39;49m\u001b[39m.\u001b[39;49m_handle_retry(back_off, left_retry, total_retry, error, logger, func)\n\u001b[1;32m    <a href='file:///anaconda/envs/azureml_py38/lib/python3.8/site-packages/azureml/_restclient/clientbase.py?line=368'>369</a>\u001b[0m reset_func(\u001b[39m*\u001b[39margs, \u001b[39m*\u001b[39m\u001b[39m*\u001b[39mkwargs)\n",
      "File \u001b[0;32m/anaconda/envs/azureml_py38/lib/python3.8/site-packages/azureml/_restclient/clientbase.py:426\u001b[0m, in \u001b[0;36mClientBase._handle_retry\u001b[0;34m(cls, back_off, left_retry, total_retry, error, logger, func)\u001b[0m\n\u001b[1;32m    <a href='file:///anaconda/envs/azureml_py38/lib/python3.8/site-packages/azureml/_restclient/clientbase.py?line=424'>425</a>\u001b[0m     \u001b[39melif\u001b[39;00m error\u001b[39m.\u001b[39mresponse\u001b[39m.\u001b[39mstatus_code \u001b[39m<\u001b[39m \u001b[39m500\u001b[39m \u001b[39mand\u001b[39;00m error\u001b[39m.\u001b[39mresponse\u001b[39m.\u001b[39mstatus_code \u001b[39m!=\u001b[39m \u001b[39m408\u001b[39m:\n\u001b[0;32m--> <a href='file:///anaconda/envs/azureml_py38/lib/python3.8/site-packages/azureml/_restclient/clientbase.py?line=425'>426</a>\u001b[0m         \u001b[39mraise\u001b[39;00m error\n\u001b[1;32m    <a href='file:///anaconda/envs/azureml_py38/lib/python3.8/site-packages/azureml/_restclient/clientbase.py?line=426'>427</a>\u001b[0m \u001b[39melif\u001b[39;00m \u001b[39misinstance\u001b[39m(error, ClientRequestError):\n",
      "File \u001b[0;32m/anaconda/envs/azureml_py38/lib/python3.8/site-packages/azureml/_restclient/clientbase.py:358\u001b[0m, in \u001b[0;36mClientBase._execute_func_internal\u001b[0;34m(cls, back_off, total_retry, logger, func, reset_func, *args, **kwargs)\u001b[0m\n\u001b[1;32m    <a href='file:///anaconda/envs/azureml_py38/lib/python3.8/site-packages/azureml/_restclient/clientbase.py?line=356'>357</a>\u001b[0m logger\u001b[39m.\u001b[39mdebug(\u001b[39m\"\u001b[39m\u001b[39mClientBase: Calling \u001b[39m\u001b[39m{}\u001b[39;00m\u001b[39m with url \u001b[39m\u001b[39m{}\u001b[39;00m\u001b[39m\"\u001b[39m\u001b[39m.\u001b[39mformat(func_name, func_url))\n\u001b[0;32m--> <a href='file:///anaconda/envs/azureml_py38/lib/python3.8/site-packages/azureml/_restclient/clientbase.py?line=357'>358</a>\u001b[0m response \u001b[39m=\u001b[39m func(\u001b[39m*\u001b[39;49margs, \u001b[39m*\u001b[39;49m\u001b[39m*\u001b[39;49mkwargs)\n\u001b[1;32m    <a href='file:///anaconda/envs/azureml_py38/lib/python3.8/site-packages/azureml/_restclient/clientbase.py?line=358'>359</a>\u001b[0m \u001b[39mif\u001b[39;00m (\u001b[39misinstance\u001b[39m(response, Response) \u001b[39mand\u001b[39;00m \u001b[39mcls\u001b[39m\u001b[39m.\u001b[39m_is_retryable_status_code(response\u001b[39m.\u001b[39mstatus_code)\n\u001b[1;32m    <a href='file:///anaconda/envs/azureml_py38/lib/python3.8/site-packages/azureml/_restclient/clientbase.py?line=359'>360</a>\u001b[0m         \u001b[39mand\u001b[39;00m left_retry \u001b[39m>\u001b[39m \u001b[39m0\u001b[39m):\n\u001b[1;32m    <a href='file:///anaconda/envs/azureml_py38/lib/python3.8/site-packages/azureml/_restclient/clientbase.py?line=360'>361</a>\u001b[0m     \u001b[39m# This is the handle the error case 1. response.raise_for_status only throws HTTPError exception.\u001b[39;00m\n\u001b[1;32m    <a href='file:///anaconda/envs/azureml_py38/lib/python3.8/site-packages/azureml/_restclient/clientbase.py?line=361'>362</a>\u001b[0m     \u001b[39m# if the status_code is retryable and it is not the last retry, then the exception is thrown.\u001b[39;00m\n\u001b[1;32m    <a href='file:///anaconda/envs/azureml_py38/lib/python3.8/site-packages/azureml/_restclient/clientbase.py?line=362'>363</a>\u001b[0m     \u001b[39m# Otherwise, we will return the response directly.\u001b[39;00m\n",
      "File \u001b[0;32m/anaconda/envs/azureml_py38/lib/python3.8/site-packages/azureml/_restclient/operations/events_operations.py:95\u001b[0m, in \u001b[0;36mEventsOperations.post\u001b[0;34m(self, subscription_id, resource_group_name, workspace_name, experiment_name, run_id, event_message, custom_headers, raw, **operation_config)\u001b[0m\n\u001b[1;32m     <a href='file:///anaconda/envs/azureml_py38/lib/python3.8/site-packages/azureml/_restclient/operations/events_operations.py?line=93'>94</a>\u001b[0m \u001b[39mif\u001b[39;00m response\u001b[39m.\u001b[39mstatus_code \u001b[39mnot\u001b[39;00m \u001b[39min\u001b[39;00m [\u001b[39m200\u001b[39m]:\n\u001b[0;32m---> <a href='file:///anaconda/envs/azureml_py38/lib/python3.8/site-packages/azureml/_restclient/operations/events_operations.py?line=94'>95</a>\u001b[0m     \u001b[39mraise\u001b[39;00m models\u001b[39m.\u001b[39mErrorResponseException(\u001b[39mself\u001b[39m\u001b[39m.\u001b[39m_deserialize, response)\n\u001b[1;32m     <a href='file:///anaconda/envs/azureml_py38/lib/python3.8/site-packages/azureml/_restclient/operations/events_operations.py?line=96'>97</a>\u001b[0m \u001b[39mif\u001b[39;00m raw:\n",
      "\u001b[0;31mErrorResponseException\u001b[0m: (UserError) Run with id 8e8c59a5-8380-45f7-9800-e831109fa179 is in a terminal state and cannot be updated.",
      "\nDuring handling of the above exception, another exception occurred:\n",
      "\u001b[0;31mServiceException\u001b[0m                          Traceback (most recent call last)",
      "\u001b[1;32m/home/azureuser/cloudfiles/code/Users/keonabut/mlops-e2e/docs/images/test.ipynb Cell 10'\u001b[0m in \u001b[0;36m<cell line: 1>\u001b[0;34m()\u001b[0m\n\u001b[0;32m----> <a href='vscode-notebook-cell://amlext%2B2f737562736372697074696f6e732f39633066393162382d656232662d343834632d393739632d3135383438633039386136622f7265736f7572636547726f7570732f617a7572656d6c2d6d6c6f70736861636b2f70726f7669646572732f4d6963726f736f66742e4d616368696e654c6561726e696e6753657276696365732f776f726b7370616365732f617a7572656d6c2d6d6c6f70736861636b2f636f6d70757465732f6d6c6f70732d7632/home/azureuser/cloudfiles/code/Users/keonabut/mlops-e2e/docs/images/test.ipynb#ch0000010vscode-remote?line=0'>1</a>\u001b[0m run\u001b[39m.\u001b[39;49mstart()\n",
      "File \u001b[0;32m/anaconda/envs/azureml_py38/lib/python3.8/site-packages/azureml/core/run.py:1395\u001b[0m, in \u001b[0;36mRun.start\u001b[0;34m(self)\u001b[0m\n\u001b[1;32m   <a href='file:///anaconda/envs/azureml_py38/lib/python3.8/site-packages/azureml/core/run.py?line=1389'>1390</a>\u001b[0m \u001b[39mdef\u001b[39;00m \u001b[39mstart\u001b[39m(\u001b[39mself\u001b[39m):\n\u001b[1;32m   <a href='file:///anaconda/envs/azureml_py38/lib/python3.8/site-packages/azureml/core/run.py?line=1390'>1391</a>\u001b[0m     \u001b[39m\"\"\"Mark the run as started.\u001b[39;00m\n\u001b[1;32m   <a href='file:///anaconda/envs/azureml_py38/lib/python3.8/site-packages/azureml/core/run.py?line=1391'>1392</a>\u001b[0m \n\u001b[1;32m   <a href='file:///anaconda/envs/azureml_py38/lib/python3.8/site-packages/azureml/core/run.py?line=1392'>1393</a>\u001b[0m \u001b[39m    This is typically used in advanced scenarios when the run has been created by another actor.\u001b[39;00m\n\u001b[1;32m   <a href='file:///anaconda/envs/azureml_py38/lib/python3.8/site-packages/azureml/core/run.py?line=1393'>1394</a>\u001b[0m \u001b[39m    \"\"\"\u001b[39;00m\n\u001b[0;32m-> <a href='file:///anaconda/envs/azureml_py38/lib/python3.8/site-packages/azureml/core/run.py?line=1394'>1395</a>\u001b[0m     \u001b[39mself\u001b[39;49m\u001b[39m.\u001b[39;49m_client\u001b[39m.\u001b[39;49mstart()\n",
      "File \u001b[0;32m/anaconda/envs/azureml_py38/lib/python3.8/site-packages/azureml/_run_impl/run_history_facade.py:613\u001b[0m, in \u001b[0;36mRunHistoryFacade.start\u001b[0;34m(self)\u001b[0m\n\u001b[1;32m    <a href='file:///anaconda/envs/azureml_py38/lib/python3.8/site-packages/azureml/_run_impl/run_history_facade.py?line=608'>609</a>\u001b[0m \u001b[39mdef\u001b[39;00m \u001b[39mstart\u001b[39m(\u001b[39mself\u001b[39m):\n\u001b[1;32m    <a href='file:///anaconda/envs/azureml_py38/lib/python3.8/site-packages/azureml/_run_impl/run_history_facade.py?line=609'>610</a>\u001b[0m     \u001b[39m\"\"\"\u001b[39;00m\n\u001b[1;32m    <a href='file:///anaconda/envs/azureml_py38/lib/python3.8/site-packages/azureml/_run_impl/run_history_facade.py?line=610'>611</a>\u001b[0m \u001b[39m    Changes the state of the current run to started\u001b[39;00m\n\u001b[1;32m    <a href='file:///anaconda/envs/azureml_py38/lib/python3.8/site-packages/azureml/_run_impl/run_history_facade.py?line=611'>612</a>\u001b[0m \u001b[39m    \"\"\"\u001b[39;00m\n\u001b[0;32m--> <a href='file:///anaconda/envs/azureml_py38/lib/python3.8/site-packages/azureml/_run_impl/run_history_facade.py?line=612'>613</a>\u001b[0m     \u001b[39mself\u001b[39;49m\u001b[39m.\u001b[39;49mrun\u001b[39m.\u001b[39;49mpost_event_start(caller\u001b[39m=\u001b[39;49m\u001b[39mself\u001b[39;49m\u001b[39m.\u001b[39;49midentity)\n",
      "File \u001b[0;32m/anaconda/envs/azureml_py38/lib/python3.8/site-packages/azureml/_restclient/run_client.py:363\u001b[0m, in \u001b[0;36mRunClient.post_event_start\u001b[0;34m(self, caller, custom_headers, is_async)\u001b[0m\n\u001b[1;32m    <a href='file:///anaconda/envs/azureml_py38/lib/python3.8/site-packages/azureml/_restclient/run_client.py?line=344'>345</a>\u001b[0m \u001b[39m\"\"\"\u001b[39;00m\n\u001b[1;32m    <a href='file:///anaconda/envs/azureml_py38/lib/python3.8/site-packages/azureml/_restclient/run_client.py?line=345'>346</a>\u001b[0m \u001b[39mPost run-started-event for this run_id\u001b[39;00m\n\u001b[1;32m    <a href='file:///anaconda/envs/azureml_py38/lib/python3.8/site-packages/azureml/_restclient/run_client.py?line=346'>347</a>\u001b[0m \u001b[39mThis method makes a synchronous call by default. To make an\u001b[39;00m\n\u001b[0;32m   (...)\u001b[0m\n\u001b[1;32m    <a href='file:///anaconda/envs/azureml_py38/lib/python3.8/site-packages/azureml/_restclient/run_client.py?line=359'>360</a>\u001b[0m \u001b[39m    azureml._async.AsyncTask (is_async is True)\u001b[39;00m\n\u001b[1;32m    <a href='file:///anaconda/envs/azureml_py38/lib/python3.8/site-packages/azureml/_restclient/run_client.py?line=360'>361</a>\u001b[0m \u001b[39m\"\"\"\u001b[39;00m\n\u001b[1;32m    <a href='file:///anaconda/envs/azureml_py38/lib/python3.8/site-packages/azureml/_restclient/run_client.py?line=361'>362</a>\u001b[0m event \u001b[39m=\u001b[39m create_start_event(\u001b[39mself\u001b[39m\u001b[39m.\u001b[39m_run_id)\n\u001b[0;32m--> <a href='file:///anaconda/envs/azureml_py38/lib/python3.8/site-packages/azureml/_restclient/run_client.py?line=362'>363</a>\u001b[0m \u001b[39mreturn\u001b[39;00m \u001b[39mself\u001b[39;49m\u001b[39m.\u001b[39;49mpost_event(event, is_async\u001b[39m=\u001b[39;49mis_async, caller\u001b[39m=\u001b[39;49mcaller, custom_headers\u001b[39m=\u001b[39;49mcustom_headers)\n",
      "File \u001b[0;32m/anaconda/envs/azureml_py38/lib/python3.8/site-packages/azureml/_restclient/run_client.py:316\u001b[0m, in \u001b[0;36mRunClient.post_event\u001b[0;34m(self, event, caller, custom_headers, is_async)\u001b[0m\n\u001b[1;32m    <a href='file:///anaconda/envs/azureml_py38/lib/python3.8/site-packages/azureml/_restclient/run_client.py?line=293'>294</a>\u001b[0m \u001b[39m\"\"\"\u001b[39;00m\n\u001b[1;32m    <a href='file:///anaconda/envs/azureml_py38/lib/python3.8/site-packages/azureml/_restclient/run_client.py?line=294'>295</a>\u001b[0m \u001b[39mPost an event of a run by its run_id\u001b[39;00m\n\u001b[1;32m    <a href='file:///anaconda/envs/azureml_py38/lib/python3.8/site-packages/azureml/_restclient/run_client.py?line=295'>296</a>\u001b[0m \u001b[39mThis method makes a synchronous call by default. To make an\u001b[39;00m\n\u001b[0;32m   (...)\u001b[0m\n\u001b[1;32m    <a href='file:///anaconda/envs/azureml_py38/lib/python3.8/site-packages/azureml/_restclient/run_client.py?line=310'>311</a>\u001b[0m \u001b[39m    azureml._async.AsyncTask (is_async is True)\u001b[39;00m\n\u001b[1;32m    <a href='file:///anaconda/envs/azureml_py38/lib/python3.8/site-packages/azureml/_restclient/run_client.py?line=311'>312</a>\u001b[0m \u001b[39m\"\"\"\u001b[39;00m\n\u001b[1;32m    <a href='file:///anaconda/envs/azureml_py38/lib/python3.8/site-packages/azureml/_restclient/run_client.py?line=312'>313</a>\u001b[0m kwargs \u001b[39m=\u001b[39m _generate_client_kwargs(event_message\u001b[39m=\u001b[39mevent, caller\u001b[39m=\u001b[39mcaller,\n\u001b[1;32m    <a href='file:///anaconda/envs/azureml_py38/lib/python3.8/site-packages/azureml/_restclient/run_client.py?line=313'>314</a>\u001b[0m                                  custom_headers\u001b[39m=\u001b[39mcustom_headers, is_async\u001b[39m=\u001b[39mis_async)\n\u001b[0;32m--> <a href='file:///anaconda/envs/azureml_py38/lib/python3.8/site-packages/azureml/_restclient/run_client.py?line=315'>316</a>\u001b[0m \u001b[39mreturn\u001b[39;00m \u001b[39mself\u001b[39;49m\u001b[39m.\u001b[39;49m_execute_with_run_arguments(\u001b[39mself\u001b[39;49m\u001b[39m.\u001b[39;49m_client\u001b[39m.\u001b[39;49mevents\u001b[39m.\u001b[39;49mpost, \u001b[39m*\u001b[39;49m\u001b[39m*\u001b[39;49mkwargs)\n",
      "File \u001b[0;32m/anaconda/envs/azureml_py38/lib/python3.8/site-packages/azureml/_restclient/run_client.py:564\u001b[0m, in \u001b[0;36mRunClient._execute_with_run_arguments\u001b[0;34m(self, func, *args, **kwargs)\u001b[0m\n\u001b[1;32m    <a href='file:///anaconda/envs/azureml_py38/lib/python3.8/site-packages/azureml/_restclient/run_client.py?line=562'>563</a>\u001b[0m \u001b[39mdef\u001b[39;00m \u001b[39m_execute_with_run_arguments\u001b[39m(\u001b[39mself\u001b[39m, func, \u001b[39m*\u001b[39margs, \u001b[39m*\u001b[39m\u001b[39m*\u001b[39mkwargs):\n\u001b[0;32m--> <a href='file:///anaconda/envs/azureml_py38/lib/python3.8/site-packages/azureml/_restclient/run_client.py?line=563'>564</a>\u001b[0m     \u001b[39mreturn\u001b[39;00m \u001b[39mself\u001b[39;49m\u001b[39m.\u001b[39;49m_execute_with_arguments(func, copy\u001b[39m.\u001b[39;49mdeepcopy(\u001b[39mself\u001b[39;49m\u001b[39m.\u001b[39;49m_run_arguments), \u001b[39m*\u001b[39;49margs, \u001b[39m*\u001b[39;49m\u001b[39m*\u001b[39;49mkwargs)\n",
      "File \u001b[0;32m/anaconda/envs/azureml_py38/lib/python3.8/site-packages/azureml/_restclient/clientbase.py:591\u001b[0m, in \u001b[0;36mClientBase._execute_with_arguments\u001b[0;34m(self, func, args_list, *args, **kwargs)\u001b[0m\n\u001b[1;32m    <a href='file:///anaconda/envs/azureml_py38/lib/python3.8/site-packages/azureml/_restclient/clientbase.py?line=588'>589</a>\u001b[0m         \u001b[39mreturn\u001b[39;00m \u001b[39mself\u001b[39m\u001b[39m.\u001b[39m_call_api(func, \u001b[39m*\u001b[39margs_list, \u001b[39m*\u001b[39m\u001b[39m*\u001b[39mkwargs)\n\u001b[1;32m    <a href='file:///anaconda/envs/azureml_py38/lib/python3.8/site-packages/azureml/_restclient/clientbase.py?line=589'>590</a>\u001b[0m \u001b[39mexcept\u001b[39;00m ErrorResponseException \u001b[39mas\u001b[39;00m e:\n\u001b[0;32m--> <a href='file:///anaconda/envs/azureml_py38/lib/python3.8/site-packages/azureml/_restclient/clientbase.py?line=590'>591</a>\u001b[0m     \u001b[39mraise\u001b[39;00m ServiceException(e)\n",
      "\u001b[0;31mServiceException\u001b[0m: ServiceException:\n\tCode: 400\n\tMessage: (UserError) Run with id 8e8c59a5-8380-45f7-9800-e831109fa179 is in a terminal state and cannot be updated.\n\tDetails:\n\n\tHeaders: {\n\t    \"Date\": \"Wed, 25 May 2022 07:47:24 GMT\",\n\t    \"Content-Type\": \"application/json; charset=utf-8\",\n\t    \"Content-Length\": \"896\",\n\t    \"Connection\": \"keep-alive\",\n\t    \"Request-Context\": \"appId=cid-v1:925df543-2be9-4f25-a70e-6fb1193b7042\",\n\t    \"x-ms-response-type\": \"error\",\n\t    \"Strict-Transport-Security\": \"max-age=15724800; includeSubDomains; preload\",\n\t    \"X-Content-Type-Options\": \"nosniff\",\n\t    \"x-aml-cluster\": \"vienna-japaneast-01\",\n\t    \"x-request-time\": \"0.055\"\n\t}\n\tInnerException: {\n    \"additional_properties\": {},\n    \"error\": {\n        \"additional_properties\": {\n            \"debugInfo\": null\n        },\n        \"code\": \"UserError\",\n        \"severity\": null,\n        \"message\": \"Run with id 8e8c59a5-8380-45f7-9800-e831109fa179 is in a terminal state and cannot be updated.\",\n        \"message_format\": \"Run with id {runId} is in a terminal state and cannot be updated.\",\n        \"message_parameters\": {\n            \"runId\": \"8e8c59a5-8380-45f7-9800-e831109fa179\"\n        },\n        \"reference_code\": null,\n        \"details_uri\": null,\n        \"target\": null,\n        \"details\": [],\n        \"inner_error\": {\n            \"additional_properties\": {},\n            \"code\": \"BadArgument\",\n            \"inner_error\": {\n                \"additional_properties\": {},\n                \"code\": \"TerminalRunState\",\n                \"inner_error\": null\n            }\n        },\n        \"additional_info\": null\n    },\n    \"correlation\": {\n        \"operation\": \"de56cb3e44e31f3dacbf44201b8c6e6d\",\n        \"request\": \"be629ea9e45eafee\"\n    },\n    \"environment\": \"japaneast\",\n    \"location\": \"japaneast\",\n    \"time\": {},\n    \"component_name\": \"run-history\"\n}"
     ]
    }
   ],
   "source": [
    "run.start()"
   ]
  },
  {
   "cell_type": "code",
   "execution_count": 6,
   "metadata": {},
   "outputs": [
    {
     "data": {
      "text/html": [
       "<table style=\"width:100%\"><tr><th>Experiment</th><th>Id</th><th>Type</th><th>Status</th><th>Details Page</th><th>Docs Page</th></tr><tr><td>runtest</td><td>90eada75-8370-4157-b45c-11d80490bedd</td><td></td><td>Running</td><td><a href=\"https://ml.azure.com/runs/90eada75-8370-4157-b45c-11d80490bedd?wsid=/subscriptions/9c0f91b8-eb2f-484c-979c-15848c098a6b/resourcegroups/azureml-mlopshack/workspaces/azureml-mlopshack&amp;tid=72f988bf-86f1-41af-91ab-2d7cd011db47\" target=\"_blank\" rel=\"noopener\">Link to Azure Machine Learning studio</a></td><td><a href=\"https://docs.microsoft.com/en-us/python/api/azureml-core/azureml.core.run.Run?view=azure-ml-py\" target=\"_blank\" rel=\"noopener\">Link to Documentation</a></td></tr></table>"
      ],
      "text/plain": [
       "Run(Experiment: runtest,\n",
       "Id: 90eada75-8370-4157-b45c-11d80490bedd,\n",
       "Type: None,\n",
       "Status: Running)"
      ]
     },
     "execution_count": 6,
     "metadata": {},
     "output_type": "execute_result"
    }
   ],
   "source": [
    "run"
   ]
  },
  {
   "cell_type": "code",
   "execution_count": 9,
   "metadata": {},
   "outputs": [
    {
     "data": {
      "text/plain": [
       "{'status': 'Canceled', 'details': None}"
      ]
     },
     "execution_count": 9,
     "metadata": {},
     "output_type": "execute_result"
    }
   ],
   "source": [
    "run.get_detailed_status()"
   ]
  },
  {
   "cell_type": "code",
   "execution_count": 8,
   "metadata": {},
   "outputs": [
    {
     "ename": "ServiceException",
     "evalue": "ServiceException:\n\tCode: 400\n\tMessage: (UserError) Run with id 90eada75-8370-4157-b45c-11d80490bedd is in a terminal state and cannot be updated.\n\tDetails:\n\n\tHeaders: {\n\t    \"Date\": \"Wed, 25 May 2022 07:37:23 GMT\",\n\t    \"Content-Type\": \"application/json; charset=utf-8\",\n\t    \"Content-Length\": \"896\",\n\t    \"Connection\": \"keep-alive\",\n\t    \"Request-Context\": \"appId=cid-v1:925df543-2be9-4f25-a70e-6fb1193b7042\",\n\t    \"x-ms-response-type\": \"error\",\n\t    \"Strict-Transport-Security\": \"max-age=15724800; includeSubDomains; preload\",\n\t    \"X-Content-Type-Options\": \"nosniff\",\n\t    \"x-aml-cluster\": \"vienna-japaneast-01\",\n\t    \"x-request-time\": \"0.033\"\n\t}\n\tInnerException: {\n    \"additional_properties\": {},\n    \"error\": {\n        \"additional_properties\": {\n            \"debugInfo\": null\n        },\n        \"code\": \"UserError\",\n        \"severity\": null,\n        \"message\": \"Run with id 90eada75-8370-4157-b45c-11d80490bedd is in a terminal state and cannot be updated.\",\n        \"message_format\": \"Run with id {runId} is in a terminal state and cannot be updated.\",\n        \"message_parameters\": {\n            \"runId\": \"90eada75-8370-4157-b45c-11d80490bedd\"\n        },\n        \"reference_code\": null,\n        \"details_uri\": null,\n        \"target\": null,\n        \"details\": [],\n        \"inner_error\": {\n            \"additional_properties\": {},\n            \"code\": \"BadArgument\",\n            \"inner_error\": {\n                \"additional_properties\": {},\n                \"code\": \"TerminalRunState\",\n                \"inner_error\": null\n            }\n        },\n        \"additional_info\": null\n    },\n    \"correlation\": {\n        \"operation\": \"4f242d0f7125fb2d2cfdd6ffe8112636\",\n        \"request\": \"dd8e7432d328d01d\"\n    },\n    \"environment\": \"japaneast\",\n    \"location\": \"japaneast\",\n    \"time\": {},\n    \"component_name\": \"run-history\"\n}",
     "output_type": "error",
     "traceback": [
      "\u001b[0;31m---------------------------------------------------------------------------\u001b[0m",
      "\u001b[0;31mErrorResponseException\u001b[0m                    Traceback (most recent call last)",
      "File \u001b[0;32m/anaconda/envs/azureml_py38/lib/python3.8/site-packages/azureml/_restclient/clientbase.py:589\u001b[0m, in \u001b[0;36mClientBase._execute_with_arguments\u001b[0;34m(self, func, args_list, *args, **kwargs)\u001b[0m\n\u001b[1;32m    <a href='file:///anaconda/envs/azureml_py38/lib/python3.8/site-packages/azureml/_restclient/clientbase.py?line=587'>588</a>\u001b[0m     \u001b[39melse\u001b[39;00m:\n\u001b[0;32m--> <a href='file:///anaconda/envs/azureml_py38/lib/python3.8/site-packages/azureml/_restclient/clientbase.py?line=588'>589</a>\u001b[0m         \u001b[39mreturn\u001b[39;00m \u001b[39mself\u001b[39;49m\u001b[39m.\u001b[39;49m_call_api(func, \u001b[39m*\u001b[39;49margs_list, \u001b[39m*\u001b[39;49m\u001b[39m*\u001b[39;49mkwargs)\n\u001b[1;32m    <a href='file:///anaconda/envs/azureml_py38/lib/python3.8/site-packages/azureml/_restclient/clientbase.py?line=589'>590</a>\u001b[0m \u001b[39mexcept\u001b[39;00m ErrorResponseException \u001b[39mas\u001b[39;00m e:\n",
      "File \u001b[0;32m/anaconda/envs/azureml_py38/lib/python3.8/site-packages/azureml/_restclient/clientbase.py:245\u001b[0m, in \u001b[0;36mClientBase._call_api\u001b[0;34m(self, func, *args, **kwargs)\u001b[0m\n\u001b[1;32m    <a href='file:///anaconda/envs/azureml_py38/lib/python3.8/site-packages/azureml/_restclient/clientbase.py?line=243'>244</a>\u001b[0m \u001b[39melse\u001b[39;00m:\n\u001b[0;32m--> <a href='file:///anaconda/envs/azureml_py38/lib/python3.8/site-packages/azureml/_restclient/clientbase.py?line=244'>245</a>\u001b[0m     \u001b[39mreturn\u001b[39;00m \u001b[39mself\u001b[39;49m\u001b[39m.\u001b[39;49m_execute_with_base_arguments(func, \u001b[39m*\u001b[39;49margs, \u001b[39m*\u001b[39;49m\u001b[39m*\u001b[39;49mkwargs)\n",
      "File \u001b[0;32m/anaconda/envs/azureml_py38/lib/python3.8/site-packages/azureml/_restclient/clientbase.py:333\u001b[0m, in \u001b[0;36mClientBase._execute_with_base_arguments\u001b[0;34m(self, func, *args, **kwargs)\u001b[0m\n\u001b[1;32m    <a href='file:///anaconda/envs/azureml_py38/lib/python3.8/site-packages/azureml/_restclient/clientbase.py?line=331'>332</a>\u001b[0m total_retry \u001b[39m=\u001b[39m \u001b[39m0\u001b[39m \u001b[39mif\u001b[39;00m \u001b[39mself\u001b[39m\u001b[39m.\u001b[39mretries \u001b[39m<\u001b[39m \u001b[39m0\u001b[39m \u001b[39melse\u001b[39;00m \u001b[39mself\u001b[39m\u001b[39m.\u001b[39mretries\n\u001b[0;32m--> <a href='file:///anaconda/envs/azureml_py38/lib/python3.8/site-packages/azureml/_restclient/clientbase.py?line=332'>333</a>\u001b[0m \u001b[39mreturn\u001b[39;00m ClientBase\u001b[39m.\u001b[39;49m_execute_func_internal(\n\u001b[1;32m    <a href='file:///anaconda/envs/azureml_py38/lib/python3.8/site-packages/azureml/_restclient/clientbase.py?line=333'>334</a>\u001b[0m     back_off, total_retry, \u001b[39mself\u001b[39;49m\u001b[39m.\u001b[39;49m_logger, func, _noop_reset, \u001b[39m*\u001b[39;49margs, \u001b[39m*\u001b[39;49m\u001b[39m*\u001b[39;49mkwargs)\n",
      "File \u001b[0;32m/anaconda/envs/azureml_py38/lib/python3.8/site-packages/azureml/_restclient/clientbase.py:367\u001b[0m, in \u001b[0;36mClientBase._execute_func_internal\u001b[0;34m(cls, back_off, total_retry, logger, func, reset_func, *args, **kwargs)\u001b[0m\n\u001b[1;32m    <a href='file:///anaconda/envs/azureml_py38/lib/python3.8/site-packages/azureml/_restclient/clientbase.py?line=365'>366</a>\u001b[0m \u001b[39mexcept\u001b[39;00m \u001b[39mException\u001b[39;00m \u001b[39mas\u001b[39;00m error:\n\u001b[0;32m--> <a href='file:///anaconda/envs/azureml_py38/lib/python3.8/site-packages/azureml/_restclient/clientbase.py?line=366'>367</a>\u001b[0m     left_retry \u001b[39m=\u001b[39m \u001b[39mcls\u001b[39;49m\u001b[39m.\u001b[39;49m_handle_retry(back_off, left_retry, total_retry, error, logger, func)\n\u001b[1;32m    <a href='file:///anaconda/envs/azureml_py38/lib/python3.8/site-packages/azureml/_restclient/clientbase.py?line=368'>369</a>\u001b[0m reset_func(\u001b[39m*\u001b[39margs, \u001b[39m*\u001b[39m\u001b[39m*\u001b[39mkwargs)\n",
      "File \u001b[0;32m/anaconda/envs/azureml_py38/lib/python3.8/site-packages/azureml/_restclient/clientbase.py:426\u001b[0m, in \u001b[0;36mClientBase._handle_retry\u001b[0;34m(cls, back_off, left_retry, total_retry, error, logger, func)\u001b[0m\n\u001b[1;32m    <a href='file:///anaconda/envs/azureml_py38/lib/python3.8/site-packages/azureml/_restclient/clientbase.py?line=424'>425</a>\u001b[0m     \u001b[39melif\u001b[39;00m error\u001b[39m.\u001b[39mresponse\u001b[39m.\u001b[39mstatus_code \u001b[39m<\u001b[39m \u001b[39m500\u001b[39m \u001b[39mand\u001b[39;00m error\u001b[39m.\u001b[39mresponse\u001b[39m.\u001b[39mstatus_code \u001b[39m!=\u001b[39m \u001b[39m408\u001b[39m:\n\u001b[0;32m--> <a href='file:///anaconda/envs/azureml_py38/lib/python3.8/site-packages/azureml/_restclient/clientbase.py?line=425'>426</a>\u001b[0m         \u001b[39mraise\u001b[39;00m error\n\u001b[1;32m    <a href='file:///anaconda/envs/azureml_py38/lib/python3.8/site-packages/azureml/_restclient/clientbase.py?line=426'>427</a>\u001b[0m \u001b[39melif\u001b[39;00m \u001b[39misinstance\u001b[39m(error, ClientRequestError):\n",
      "File \u001b[0;32m/anaconda/envs/azureml_py38/lib/python3.8/site-packages/azureml/_restclient/clientbase.py:358\u001b[0m, in \u001b[0;36mClientBase._execute_func_internal\u001b[0;34m(cls, back_off, total_retry, logger, func, reset_func, *args, **kwargs)\u001b[0m\n\u001b[1;32m    <a href='file:///anaconda/envs/azureml_py38/lib/python3.8/site-packages/azureml/_restclient/clientbase.py?line=356'>357</a>\u001b[0m logger\u001b[39m.\u001b[39mdebug(\u001b[39m\"\u001b[39m\u001b[39mClientBase: Calling \u001b[39m\u001b[39m{}\u001b[39;00m\u001b[39m with url \u001b[39m\u001b[39m{}\u001b[39;00m\u001b[39m\"\u001b[39m\u001b[39m.\u001b[39mformat(func_name, func_url))\n\u001b[0;32m--> <a href='file:///anaconda/envs/azureml_py38/lib/python3.8/site-packages/azureml/_restclient/clientbase.py?line=357'>358</a>\u001b[0m response \u001b[39m=\u001b[39m func(\u001b[39m*\u001b[39;49margs, \u001b[39m*\u001b[39;49m\u001b[39m*\u001b[39;49mkwargs)\n\u001b[1;32m    <a href='file:///anaconda/envs/azureml_py38/lib/python3.8/site-packages/azureml/_restclient/clientbase.py?line=358'>359</a>\u001b[0m \u001b[39mif\u001b[39;00m (\u001b[39misinstance\u001b[39m(response, Response) \u001b[39mand\u001b[39;00m \u001b[39mcls\u001b[39m\u001b[39m.\u001b[39m_is_retryable_status_code(response\u001b[39m.\u001b[39mstatus_code)\n\u001b[1;32m    <a href='file:///anaconda/envs/azureml_py38/lib/python3.8/site-packages/azureml/_restclient/clientbase.py?line=359'>360</a>\u001b[0m         \u001b[39mand\u001b[39;00m left_retry \u001b[39m>\u001b[39m \u001b[39m0\u001b[39m):\n\u001b[1;32m    <a href='file:///anaconda/envs/azureml_py38/lib/python3.8/site-packages/azureml/_restclient/clientbase.py?line=360'>361</a>\u001b[0m     \u001b[39m# This is the handle the error case 1. response.raise_for_status only throws HTTPError exception.\u001b[39;00m\n\u001b[1;32m    <a href='file:///anaconda/envs/azureml_py38/lib/python3.8/site-packages/azureml/_restclient/clientbase.py?line=361'>362</a>\u001b[0m     \u001b[39m# if the status_code is retryable and it is not the last retry, then the exception is thrown.\u001b[39;00m\n\u001b[1;32m    <a href='file:///anaconda/envs/azureml_py38/lib/python3.8/site-packages/azureml/_restclient/clientbase.py?line=362'>363</a>\u001b[0m     \u001b[39m# Otherwise, we will return the response directly.\u001b[39;00m\n",
      "File \u001b[0;32m/anaconda/envs/azureml_py38/lib/python3.8/site-packages/azureml/_restclient/operations/events_operations.py:95\u001b[0m, in \u001b[0;36mEventsOperations.post\u001b[0;34m(self, subscription_id, resource_group_name, workspace_name, experiment_name, run_id, event_message, custom_headers, raw, **operation_config)\u001b[0m\n\u001b[1;32m     <a href='file:///anaconda/envs/azureml_py38/lib/python3.8/site-packages/azureml/_restclient/operations/events_operations.py?line=93'>94</a>\u001b[0m \u001b[39mif\u001b[39;00m response\u001b[39m.\u001b[39mstatus_code \u001b[39mnot\u001b[39;00m \u001b[39min\u001b[39;00m [\u001b[39m200\u001b[39m]:\n\u001b[0;32m---> <a href='file:///anaconda/envs/azureml_py38/lib/python3.8/site-packages/azureml/_restclient/operations/events_operations.py?line=94'>95</a>\u001b[0m     \u001b[39mraise\u001b[39;00m models\u001b[39m.\u001b[39mErrorResponseException(\u001b[39mself\u001b[39m\u001b[39m.\u001b[39m_deserialize, response)\n\u001b[1;32m     <a href='file:///anaconda/envs/azureml_py38/lib/python3.8/site-packages/azureml/_restclient/operations/events_operations.py?line=96'>97</a>\u001b[0m \u001b[39mif\u001b[39;00m raw:\n",
      "\u001b[0;31mErrorResponseException\u001b[0m: (UserError) Run with id 90eada75-8370-4157-b45c-11d80490bedd is in a terminal state and cannot be updated.",
      "\nDuring handling of the above exception, another exception occurred:\n",
      "\u001b[0;31mServiceException\u001b[0m                          Traceback (most recent call last)",
      "\u001b[1;32m/home/azureuser/cloudfiles/code/Users/keonabut/mlops-e2e/docs/images/test.ipynb Cell 8'\u001b[0m in \u001b[0;36m<cell line: 1>\u001b[0;34m()\u001b[0m\n\u001b[0;32m----> <a href='vscode-notebook-cell://amlext%2B2f737562736372697074696f6e732f39633066393162382d656232662d343834632d393739632d3135383438633039386136622f7265736f7572636547726f7570732f617a7572656d6c2d6d6c6f70736861636b2f70726f7669646572732f4d6963726f736f66742e4d616368696e654c6561726e696e6753657276696365732f776f726b7370616365732f617a7572656d6c2d6d6c6f70736861636b2f636f6d70757465732f6d6c6f70732d7632/home/azureuser/cloudfiles/code/Users/keonabut/mlops-e2e/docs/images/test.ipynb#ch0000005vscode-remote?line=0'>1</a>\u001b[0m run\u001b[39m.\u001b[39;49mcomplete()\n",
      "File \u001b[0;32m/anaconda/envs/azureml_py38/lib/python3.8/site-packages/azureml/core/run.py:1405\u001b[0m, in \u001b[0;36mRun.complete\u001b[0;34m(self, _set_status)\u001b[0m\n\u001b[1;32m   <a href='file:///anaconda/envs/azureml_py38/lib/python3.8/site-packages/azureml/core/run.py?line=1396'>1397</a>\u001b[0m \u001b[39mdef\u001b[39;00m \u001b[39mcomplete\u001b[39m(\u001b[39mself\u001b[39m, _set_status\u001b[39m=\u001b[39m\u001b[39mTrue\u001b[39;00m):\n\u001b[1;32m   <a href='file:///anaconda/envs/azureml_py38/lib/python3.8/site-packages/azureml/core/run.py?line=1397'>1398</a>\u001b[0m     \u001b[39m\"\"\"Wait for task queue to be processed.\u001b[39;00m\n\u001b[1;32m   <a href='file:///anaconda/envs/azureml_py38/lib/python3.8/site-packages/azureml/core/run.py?line=1398'>1399</a>\u001b[0m \n\u001b[1;32m   <a href='file:///anaconda/envs/azureml_py38/lib/python3.8/site-packages/azureml/core/run.py?line=1399'>1400</a>\u001b[0m \u001b[39m    Then run is marked as completed. This is typically used in interactive notebook scenarios.\u001b[39;00m\n\u001b[0;32m   (...)\u001b[0m\n\u001b[1;32m   <a href='file:///anaconda/envs/azureml_py38/lib/python3.8/site-packages/azureml/core/run.py?line=1402'>1403</a>\u001b[0m \u001b[39m    :type _set_status: bool\u001b[39;00m\n\u001b[1;32m   <a href='file:///anaconda/envs/azureml_py38/lib/python3.8/site-packages/azureml/core/run.py?line=1403'>1404</a>\u001b[0m \u001b[39m    \"\"\"\u001b[39;00m\n\u001b[0;32m-> <a href='file:///anaconda/envs/azureml_py38/lib/python3.8/site-packages/azureml/core/run.py?line=1404'>1405</a>\u001b[0m     \u001b[39mself\u001b[39;49m\u001b[39m.\u001b[39;49m_client\u001b[39m.\u001b[39;49mcomplete(_set_status\u001b[39m=\u001b[39;49m_set_status)\n",
      "File \u001b[0;32m/anaconda/envs/azureml_py38/lib/python3.8/site-packages/azureml/_run_impl/run_history_facade.py:621\u001b[0m, in \u001b[0;36mRunHistoryFacade.complete\u001b[0;34m(self, _set_status)\u001b[0m\n\u001b[1;32m    <a href='file:///anaconda/envs/azureml_py38/lib/python3.8/site-packages/azureml/_run_impl/run_history_facade.py?line=618'>619</a>\u001b[0m \u001b[39mself\u001b[39m\u001b[39m.\u001b[39mflush()\n\u001b[1;32m    <a href='file:///anaconda/envs/azureml_py38/lib/python3.8/site-packages/azureml/_run_impl/run_history_facade.py?line=619'>620</a>\u001b[0m \u001b[39mself\u001b[39m\u001b[39m.\u001b[39mupload_tracked_files()\n\u001b[0;32m--> <a href='file:///anaconda/envs/azureml_py38/lib/python3.8/site-packages/azureml/_run_impl/run_history_facade.py?line=620'>621</a>\u001b[0m \u001b[39mself\u001b[39;49m\u001b[39m.\u001b[39;49mset_completed_status(_set_status\u001b[39m=\u001b[39;49m_set_status)\n",
      "File \u001b[0;32m/anaconda/envs/azureml_py38/lib/python3.8/site-packages/azureml/_run_impl/run_history_facade.py:625\u001b[0m, in \u001b[0;36mRunHistoryFacade.set_completed_status\u001b[0;34m(self, _set_status)\u001b[0m\n\u001b[1;32m    <a href='file:///anaconda/envs/azureml_py38/lib/python3.8/site-packages/azureml/_run_impl/run_history_facade.py?line=622'>623</a>\u001b[0m \u001b[39mdef\u001b[39;00m \u001b[39mset_completed_status\u001b[39m(\u001b[39mself\u001b[39m, _set_status):\n\u001b[1;32m    <a href='file:///anaconda/envs/azureml_py38/lib/python3.8/site-packages/azureml/_run_impl/run_history_facade.py?line=623'>624</a>\u001b[0m     \u001b[39mif\u001b[39;00m _set_status:\n\u001b[0;32m--> <a href='file:///anaconda/envs/azureml_py38/lib/python3.8/site-packages/azureml/_run_impl/run_history_facade.py?line=624'>625</a>\u001b[0m         \u001b[39mself\u001b[39;49m\u001b[39m.\u001b[39;49mrun\u001b[39m.\u001b[39;49mpost_event_completed(caller\u001b[39m=\u001b[39;49m\u001b[39mself\u001b[39;49m\u001b[39m.\u001b[39;49midentity)\n",
      "File \u001b[0;32m/anaconda/envs/azureml_py38/lib/python3.8/site-packages/azureml/_restclient/run_client.py:384\u001b[0m, in \u001b[0;36mRunClient.post_event_completed\u001b[0;34m(self, caller, custom_headers, is_async)\u001b[0m\n\u001b[1;32m    <a href='file:///anaconda/envs/azureml_py38/lib/python3.8/site-packages/azureml/_restclient/run_client.py?line=365'>366</a>\u001b[0m \u001b[39m\"\"\"\u001b[39;00m\n\u001b[1;32m    <a href='file:///anaconda/envs/azureml_py38/lib/python3.8/site-packages/azureml/_restclient/run_client.py?line=366'>367</a>\u001b[0m \u001b[39mPost run-completed-event for this run_id\u001b[39;00m\n\u001b[1;32m    <a href='file:///anaconda/envs/azureml_py38/lib/python3.8/site-packages/azureml/_restclient/run_client.py?line=367'>368</a>\u001b[0m \u001b[39mThis method makes a synchronous call by default. To make an\u001b[39;00m\n\u001b[0;32m   (...)\u001b[0m\n\u001b[1;32m    <a href='file:///anaconda/envs/azureml_py38/lib/python3.8/site-packages/azureml/_restclient/run_client.py?line=380'>381</a>\u001b[0m \u001b[39m    azureml._async.AsyncTask (is_async is True)\u001b[39;00m\n\u001b[1;32m    <a href='file:///anaconda/envs/azureml_py38/lib/python3.8/site-packages/azureml/_restclient/run_client.py?line=381'>382</a>\u001b[0m \u001b[39m\"\"\"\u001b[39;00m\n\u001b[1;32m    <a href='file:///anaconda/envs/azureml_py38/lib/python3.8/site-packages/azureml/_restclient/run_client.py?line=382'>383</a>\u001b[0m event \u001b[39m=\u001b[39m create_completed_event(\u001b[39mself\u001b[39m\u001b[39m.\u001b[39m_run_id)\n\u001b[0;32m--> <a href='file:///anaconda/envs/azureml_py38/lib/python3.8/site-packages/azureml/_restclient/run_client.py?line=383'>384</a>\u001b[0m \u001b[39mreturn\u001b[39;00m \u001b[39mself\u001b[39;49m\u001b[39m.\u001b[39;49mpost_event(event, is_async\u001b[39m=\u001b[39;49mis_async, caller\u001b[39m=\u001b[39;49mcaller, custom_headers\u001b[39m=\u001b[39;49mcustom_headers)\n",
      "File \u001b[0;32m/anaconda/envs/azureml_py38/lib/python3.8/site-packages/azureml/_restclient/run_client.py:316\u001b[0m, in \u001b[0;36mRunClient.post_event\u001b[0;34m(self, event, caller, custom_headers, is_async)\u001b[0m\n\u001b[1;32m    <a href='file:///anaconda/envs/azureml_py38/lib/python3.8/site-packages/azureml/_restclient/run_client.py?line=293'>294</a>\u001b[0m \u001b[39m\"\"\"\u001b[39;00m\n\u001b[1;32m    <a href='file:///anaconda/envs/azureml_py38/lib/python3.8/site-packages/azureml/_restclient/run_client.py?line=294'>295</a>\u001b[0m \u001b[39mPost an event of a run by its run_id\u001b[39;00m\n\u001b[1;32m    <a href='file:///anaconda/envs/azureml_py38/lib/python3.8/site-packages/azureml/_restclient/run_client.py?line=295'>296</a>\u001b[0m \u001b[39mThis method makes a synchronous call by default. To make an\u001b[39;00m\n\u001b[0;32m   (...)\u001b[0m\n\u001b[1;32m    <a href='file:///anaconda/envs/azureml_py38/lib/python3.8/site-packages/azureml/_restclient/run_client.py?line=310'>311</a>\u001b[0m \u001b[39m    azureml._async.AsyncTask (is_async is True)\u001b[39;00m\n\u001b[1;32m    <a href='file:///anaconda/envs/azureml_py38/lib/python3.8/site-packages/azureml/_restclient/run_client.py?line=311'>312</a>\u001b[0m \u001b[39m\"\"\"\u001b[39;00m\n\u001b[1;32m    <a href='file:///anaconda/envs/azureml_py38/lib/python3.8/site-packages/azureml/_restclient/run_client.py?line=312'>313</a>\u001b[0m kwargs \u001b[39m=\u001b[39m _generate_client_kwargs(event_message\u001b[39m=\u001b[39mevent, caller\u001b[39m=\u001b[39mcaller,\n\u001b[1;32m    <a href='file:///anaconda/envs/azureml_py38/lib/python3.8/site-packages/azureml/_restclient/run_client.py?line=313'>314</a>\u001b[0m                                  custom_headers\u001b[39m=\u001b[39mcustom_headers, is_async\u001b[39m=\u001b[39mis_async)\n\u001b[0;32m--> <a href='file:///anaconda/envs/azureml_py38/lib/python3.8/site-packages/azureml/_restclient/run_client.py?line=315'>316</a>\u001b[0m \u001b[39mreturn\u001b[39;00m \u001b[39mself\u001b[39;49m\u001b[39m.\u001b[39;49m_execute_with_run_arguments(\u001b[39mself\u001b[39;49m\u001b[39m.\u001b[39;49m_client\u001b[39m.\u001b[39;49mevents\u001b[39m.\u001b[39;49mpost, \u001b[39m*\u001b[39;49m\u001b[39m*\u001b[39;49mkwargs)\n",
      "File \u001b[0;32m/anaconda/envs/azureml_py38/lib/python3.8/site-packages/azureml/_restclient/run_client.py:564\u001b[0m, in \u001b[0;36mRunClient._execute_with_run_arguments\u001b[0;34m(self, func, *args, **kwargs)\u001b[0m\n\u001b[1;32m    <a href='file:///anaconda/envs/azureml_py38/lib/python3.8/site-packages/azureml/_restclient/run_client.py?line=562'>563</a>\u001b[0m \u001b[39mdef\u001b[39;00m \u001b[39m_execute_with_run_arguments\u001b[39m(\u001b[39mself\u001b[39m, func, \u001b[39m*\u001b[39margs, \u001b[39m*\u001b[39m\u001b[39m*\u001b[39mkwargs):\n\u001b[0;32m--> <a href='file:///anaconda/envs/azureml_py38/lib/python3.8/site-packages/azureml/_restclient/run_client.py?line=563'>564</a>\u001b[0m     \u001b[39mreturn\u001b[39;00m \u001b[39mself\u001b[39;49m\u001b[39m.\u001b[39;49m_execute_with_arguments(func, copy\u001b[39m.\u001b[39;49mdeepcopy(\u001b[39mself\u001b[39;49m\u001b[39m.\u001b[39;49m_run_arguments), \u001b[39m*\u001b[39;49margs, \u001b[39m*\u001b[39;49m\u001b[39m*\u001b[39;49mkwargs)\n",
      "File \u001b[0;32m/anaconda/envs/azureml_py38/lib/python3.8/site-packages/azureml/_restclient/clientbase.py:591\u001b[0m, in \u001b[0;36mClientBase._execute_with_arguments\u001b[0;34m(self, func, args_list, *args, **kwargs)\u001b[0m\n\u001b[1;32m    <a href='file:///anaconda/envs/azureml_py38/lib/python3.8/site-packages/azureml/_restclient/clientbase.py?line=588'>589</a>\u001b[0m         \u001b[39mreturn\u001b[39;00m \u001b[39mself\u001b[39m\u001b[39m.\u001b[39m_call_api(func, \u001b[39m*\u001b[39margs_list, \u001b[39m*\u001b[39m\u001b[39m*\u001b[39mkwargs)\n\u001b[1;32m    <a href='file:///anaconda/envs/azureml_py38/lib/python3.8/site-packages/azureml/_restclient/clientbase.py?line=589'>590</a>\u001b[0m \u001b[39mexcept\u001b[39;00m ErrorResponseException \u001b[39mas\u001b[39;00m e:\n\u001b[0;32m--> <a href='file:///anaconda/envs/azureml_py38/lib/python3.8/site-packages/azureml/_restclient/clientbase.py?line=590'>591</a>\u001b[0m     \u001b[39mraise\u001b[39;00m ServiceException(e)\n",
      "\u001b[0;31mServiceException\u001b[0m: ServiceException:\n\tCode: 400\n\tMessage: (UserError) Run with id 90eada75-8370-4157-b45c-11d80490bedd is in a terminal state and cannot be updated.\n\tDetails:\n\n\tHeaders: {\n\t    \"Date\": \"Wed, 25 May 2022 07:37:23 GMT\",\n\t    \"Content-Type\": \"application/json; charset=utf-8\",\n\t    \"Content-Length\": \"896\",\n\t    \"Connection\": \"keep-alive\",\n\t    \"Request-Context\": \"appId=cid-v1:925df543-2be9-4f25-a70e-6fb1193b7042\",\n\t    \"x-ms-response-type\": \"error\",\n\t    \"Strict-Transport-Security\": \"max-age=15724800; includeSubDomains; preload\",\n\t    \"X-Content-Type-Options\": \"nosniff\",\n\t    \"x-aml-cluster\": \"vienna-japaneast-01\",\n\t    \"x-request-time\": \"0.033\"\n\t}\n\tInnerException: {\n    \"additional_properties\": {},\n    \"error\": {\n        \"additional_properties\": {\n            \"debugInfo\": null\n        },\n        \"code\": \"UserError\",\n        \"severity\": null,\n        \"message\": \"Run with id 90eada75-8370-4157-b45c-11d80490bedd is in a terminal state and cannot be updated.\",\n        \"message_format\": \"Run with id {runId} is in a terminal state and cannot be updated.\",\n        \"message_parameters\": {\n            \"runId\": \"90eada75-8370-4157-b45c-11d80490bedd\"\n        },\n        \"reference_code\": null,\n        \"details_uri\": null,\n        \"target\": null,\n        \"details\": [],\n        \"inner_error\": {\n            \"additional_properties\": {},\n            \"code\": \"BadArgument\",\n            \"inner_error\": {\n                \"additional_properties\": {},\n                \"code\": \"TerminalRunState\",\n                \"inner_error\": null\n            }\n        },\n        \"additional_info\": null\n    },\n    \"correlation\": {\n        \"operation\": \"4f242d0f7125fb2d2cfdd6ffe8112636\",\n        \"request\": \"dd8e7432d328d01d\"\n    },\n    \"environment\": \"japaneast\",\n    \"location\": \"japaneast\",\n    \"time\": {},\n    \"component_name\": \"run-history\"\n}"
     ]
    }
   ],
   "source": [
    "run.complete()"
   ]
  },
  {
   "cell_type": "code",
   "execution_count": null,
   "metadata": {},
   "outputs": [],
   "source": []
  }
 ],
 "metadata": {
  "interpreter": {
   "hash": "6d65a8c07f5b6469e0fc613f182488c0dccce05038bbda39e5ac9075c0454d11"
  },
  "kernelspec": {
   "display_name": "Python 3.8.5 ('azureml_py38')",
   "language": "python",
   "name": "python3"
  },
  "language_info": {
   "codemirror_mode": {
    "name": "ipython",
    "version": 3
   },
   "file_extension": ".py",
   "mimetype": "text/x-python",
   "name": "python",
   "nbconvert_exporter": "python",
   "pygments_lexer": "ipython3",
   "version": "3.8.5"
  },
  "orig_nbformat": 4
 },
 "nbformat": 4,
 "nbformat_minor": 2
}
